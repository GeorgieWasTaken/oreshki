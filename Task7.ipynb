{
  "cells": [
    {
      "cell_type": "markdown",
      "metadata": {
        "id": "view-in-github",
        "colab_type": "text"
      },
      "source": [
        "<a href=\"https://colab.research.google.com/github/GeorgieWasTaken/oreshki/blob/main/Task7.ipynb\" target=\"_parent\"><img src=\"https://colab.research.google.com/assets/colab-badge.svg\" alt=\"Open In Colab\"/></a>"
      ]
    },
    {
      "cell_type": "markdown",
      "metadata": {
        "id": "s7xXS0_Tm9S5"
      },
      "source": [
        "## Листовые выражения и генераторы списков\n",
        "\n",
        "**Листовые выражения и генераторы списков** — это мощные инструменты в языке Python, которые позволяют создавать списки, применяя к ним различные операции в лаконичной и эффективной форме. С их помощью можно сокращать код и делать его более читаемым.\n",
        "\n",
        "**Листовые выражения (List comprehensions)** — это способ создать новый список, проходя по элементам существующей последовательности и применяя к ним определённые операции или фильтры."
      ]
    },
    {
      "cell_type": "markdown",
      "metadata": {
        "id": "QC-b0T6gndXK"
      },
      "source": [
        "Синтаксис листового выражения в Python имеет следующую структуру:\n",
        "\n",
        "[*выражение for элемент in последовательность if условие*]\n",
        "\n",
        "Где:\n",
        "\n",
        "*выражение* — это операция или функция, которая применяется к каждому элементу последовательности. Это может быть преобразование, вычисление или что-либо другое.\n",
        "\n",
        "*for элемент in последовательность* — это цикл, который проходит по каждому элементу указанной последовательности (например, список, строка или генератор).\n",
        "\n",
        "*if условие* (необязательно) — это фильтр, который позволяет включать в результат только те элементы, которые соответствуют заданному условию. Если условие не указано, в результат попадут все элементы последовательности."
      ]
    },
    {
      "cell_type": "markdown",
      "metadata": {
        "id": "QCysJEj4nB1u"
      },
      "source": [
        "**Пример:** Создание списка квадратов чисел от 1 до 5:"
      ]
    },
    {
      "cell_type": "code",
      "execution_count": null,
      "metadata": {
        "colab": {
          "base_uri": "https://localhost:8080/"
        },
        "id": "cQSKFqdAmeOX",
        "outputId": "6484d59f-eeb2-4dc5-f74e-9ef817a2e4bf"
      },
      "outputs": [
        {
          "output_type": "stream",
          "name": "stdout",
          "text": [
            "[1, 4, 9, 16, 25]\n"
          ]
        }
      ],
      "source": [
        "#squares = [x**2 for x in range(1, 6)]\n",
        "print([x**2 for x in range(1, 6)])\n",
        "# Вывод: [1, 4, 9, 16, 25]"
      ]
    },
    {
      "cell_type": "markdown",
      "metadata": {
        "id": "eHMuRav1nIIV"
      },
      "source": [
        "**Пример:** Список чётных чисел от 1 до 10"
      ]
    },
    {
      "cell_type": "code",
      "execution_count": null,
      "metadata": {
        "colab": {
          "base_uri": "https://localhost:8080/"
        },
        "id": "jIfQmSXtnEn6",
        "outputId": "e7e820f0-0033-4ec8-a75c-f01f75fbfd79"
      },
      "outputs": [
        {
          "output_type": "stream",
          "name": "stdout",
          "text": [
            "[None, 2, None, 4, None, 6, None, 8, None, 10]\n"
          ]
        }
      ],
      "source": [
        "evens = [x if x % 2 == 0 else None for x in range(1, 11) ]\n",
        "print(evens)\n",
        "# Вывод: [2, 4, 6, 8, 10]"
      ]
    },
    {
      "cell_type": "markdown",
      "metadata": {
        "id": "3JjdtJnnqQA9"
      },
      "source": [
        "\n",
        "**Вложенные списочные выражения** используются для создания многомерных списков или для выполнения более сложных операций в одной строке кода. Вот пример вложенного списочного оператора для создания матрицы и её транспонирования:"
      ]
    },
    {
      "cell_type": "markdown",
      "metadata": {
        "id": "RActlJb9qWzO"
      },
      "source": [
        "**Пример**: Транспонирование матрицы\n",
        "Допустим, у нас есть матрица (список списков) и мы хотим её транспонировать (заменить строки на столбцы)."
      ]
    },
    {
      "cell_type": "markdown",
      "metadata": {
        "id": "16qKc2TOqbXJ"
      },
      "source": [
        "Исходная матрица:"
      ]
    },
    {
      "cell_type": "code",
      "execution_count": null,
      "metadata": {
        "colab": {
          "base_uri": "https://localhost:8080/"
        },
        "id": "2q4bSvINnvnL",
        "outputId": "352c72a2-07e2-4e38-c15d-de139e026866"
      },
      "outputs": [
        {
          "name": "stdout",
          "output_type": "stream",
          "text": [
            "[[1,0],[0,1]]\n"
          ]
        },
        {
          "data": {
            "text/plain": [
              "[[1, 0], [0, 1]]"
            ]
          },
          "execution_count": 2,
          "metadata": {},
          "output_type": "execute_result"
        }
      ],
      "source": [
        "matrix = eval(input())\n",
        "matrix"
      ]
    },
    {
      "cell_type": "code",
      "execution_count": null,
      "metadata": {
        "id": "hHspB5a8qffV"
      },
      "outputs": [],
      "source": [
        "matrix = [\n",
        "    [1, 2, 3],\n",
        "    [4, 5, 6],\n",
        "    [7, 8, 9]\n",
        "]"
      ]
    },
    {
      "cell_type": "markdown",
      "metadata": {
        "id": "K2iy6123qh3O"
      },
      "source": [
        "Транспонирование матрицы:"
      ]
    },
    {
      "cell_type": "code",
      "execution_count": null,
      "metadata": {
        "colab": {
          "base_uri": "https://localhost:8080/"
        },
        "id": "5aCZi93CqlhX",
        "outputId": "a9fdf68a-5454-472f-9ffb-499fd4fe6e5e"
      },
      "outputs": [
        {
          "name": "stdout",
          "output_type": "stream",
          "text": [
            "[1, 4, 7]\n",
            "[2, 5, 8]\n",
            "[3, 6, 9]\n"
          ]
        }
      ],
      "source": [
        "transposed_matrix = [[row[i] for row in matrix] for i in range(len(matrix[0]))]\n",
        "print(*transposed_matrix, sep='\\n')"
      ]
    },
    {
      "cell_type": "markdown",
      "metadata": {
        "id": "K8TeuAeIq0zh"
      },
      "source": [
        "**Объяснение:**\n",
        "* Внешнее списочное выражение: for i in range(len(matrix[0])) — проходит по\n",
        "индексам столбцов.\n",
        "* Внутреннее выражение: [row[i] for row in matrix] — для каждого столбца собирает элементы из каждой строки по этому индексу i."
      ]
    },
    {
      "cell_type": "markdown",
      "metadata": {
        "id": "omE4-s08n3J9"
      },
      "source": [
        "**Генераторы списков** работают схожим образом, но вместо создания полного списка сразу, они возвращают элементы по мере их запроса, что позволяет экономить память при работе с большими наборами данных."
      ]
    },
    {
      "cell_type": "markdown",
      "metadata": {
        "id": "JhxVZO_6n9BB"
      },
      "source": [
        "**Пример:** Генератор для получения квадратов чисел:"
      ]
    },
    {
      "cell_type": "code",
      "execution_count": null,
      "metadata": {
        "colab": {
          "base_uri": "https://localhost:8080/"
        },
        "id": "z7ZPrBHynJ3E",
        "outputId": "e3aba3a5-d719-4e3b-832b-4b35365f8bd6"
      },
      "outputs": [
        {
          "name": "stdout",
          "output_type": "stream",
          "text": [
            "1\n",
            "4\n",
            "9\n",
            "16\n",
            "25\n"
          ]
        }
      ],
      "source": [
        "squares_gen = (x**2 for x in range(1, 6))\n",
        "for square in squares_gen:\n",
        "    print(square)\n",
        "# Вывод: 1, 4, 9, 16, 25 (каждое значение по одному)\n"
      ]
    },
    {
      "cell_type": "code",
      "source": [
        "{str(i) : str(i-1) for i in range(10)}"
      ],
      "metadata": {
        "colab": {
          "base_uri": "https://localhost:8080/"
        },
        "id": "0BL-aprB3Fvy",
        "outputId": "e6347722-d17e-4848-ee2e-28a0ddaef4c9"
      },
      "execution_count": null,
      "outputs": [
        {
          "output_type": "execute_result",
          "data": {
            "text/plain": [
              "{'0': '-1',\n",
              " '1': '0',\n",
              " '2': '1',\n",
              " '3': '2',\n",
              " '4': '3',\n",
              " '5': '4',\n",
              " '6': '5',\n",
              " '7': '6',\n",
              " '8': '7',\n",
              " '9': '8'}"
            ]
          },
          "metadata": {},
          "execution_count": 8
        }
      ]
    },
    {
      "cell_type": "code",
      "execution_count": null,
      "metadata": {
        "colab": {
          "base_uri": "https://localhost:8080/"
        },
        "id": "cn8UziBQn9qC",
        "outputId": "f67d4466-bb99-431e-ae55-646938857afd"
      },
      "outputs": [
        {
          "name": "stdout",
          "output_type": "stream",
          "text": [
            "<class 'list'>\n",
            "<class 'generator'>\n"
          ]
        }
      ],
      "source": [
        "print(type(squares))      # список\n",
        "print(type(squares_gen))  # генератор"
      ]
    },
    {
      "cell_type": "markdown",
      "metadata": {
        "id": "yateLR_Go6za"
      },
      "source": [
        "## 1. Таблица умножения\n",
        "\n",
        "**Задание:**  \n",
        "Напишите программу, которая создаёт список произведений чисел от 1 до 10 на 5.\n",
        "\n",
        "**Формат ввода:**  \n",
        "Ввод отсутствует.\n",
        "\n",
        "**Формат вывода:**  \n",
        "Список произведений чисел от 1 до 10 на 5."
      ]
    },
    {
      "cell_type": "code",
      "execution_count": 1,
      "metadata": {
        "id": "bNZ4KirMoD6l",
        "colab": {
          "base_uri": "https://localhost:8080/"
        },
        "outputId": "b4df260c-7200-4fef-a058-84e139474a2f"
      },
      "outputs": [
        {
          "output_type": "stream",
          "name": "stdout",
          "text": [
            "[5, 10, 15, 20, 25, 30, 35, 40, 45, 50]\n"
          ]
        }
      ],
      "source": [
        "print([i * 5 for i in range(1, 11)])"
      ]
    },
    {
      "cell_type": "markdown",
      "metadata": {
        "id": "1FC8lmJzpFeN"
      },
      "source": [
        "## 2. Квадраты нечётных чисел\n",
        "\n",
        "**Задание:**  \n",
        "Напишите программу, которая создаёт список квадратов всех нечётных чисел от 1 до 20.\n",
        "\n",
        "**Формат ввода:**  \n",
        "Ввод отсутствует.\n",
        "\n",
        "**Формат вывода:**  \n",
        "Список квадратов нечётных чисел от 1 до 20."
      ]
    },
    {
      "cell_type": "code",
      "execution_count": 2,
      "metadata": {
        "id": "Mjjkmbx3peU0",
        "colab": {
          "base_uri": "https://localhost:8080/"
        },
        "outputId": "292619d1-5dbc-4b0b-b79e-378a494c5f60"
      },
      "outputs": [
        {
          "output_type": "stream",
          "name": "stdout",
          "text": [
            "[1, 9, 25, 49, 81, 121, 169, 225, 289, 361]\n"
          ]
        }
      ],
      "source": [
        "print([x**2 for x in range(1, 21) if x % 2 != 0])"
      ]
    },
    {
      "cell_type": "markdown",
      "metadata": {
        "id": "tLxDj6xspizC"
      },
      "source": [
        "## 3. Фильтрация слов по длине\n",
        "\n",
        "**Задание:**  \n",
        "Напишите программу, которая создаёт новый список, содержащий только те слова, длина которых больше 4 символов.\n",
        "\n",
        "**Формат ввода:**  \n",
        "Один список слов: `[\"apple\", \"banana\", \"kiwi\", \"grape\", \"orange\"]`.\n",
        "\n",
        "**Формат вывода:**  \n",
        "Новый список слов, длина которых больше 4 символов."
      ]
    },
    {
      "cell_type": "code",
      "execution_count": 3,
      "metadata": {
        "id": "4Qedcp6FpnyG",
        "colab": {
          "base_uri": "https://localhost:8080/"
        },
        "outputId": "2a154b43-b447-4d27-c78a-503a20aaf76b"
      },
      "outputs": [
        {
          "output_type": "stream",
          "name": "stdout",
          "text": [
            "['apple', 'banana', 'grape', 'orange']\n"
          ]
        }
      ],
      "source": [
        "words = [\"apple\", \"banana\", \"kiwi\", \"grape\", \"orange\"]\n",
        "result = [word for word in words if len(word) > 4]\n",
        "print(result)"
      ]
    },
    {
      "cell_type": "markdown",
      "metadata": {
        "id": "t2w--kh2ppDY"
      },
      "source": []
    },
    {
      "cell_type": "markdown",
      "metadata": {
        "id": "qkllgc3jso66"
      },
      "source": [
        "## 4. Извлечение диагонали матрицы\n",
        "\n",
        "**Задание:**  \n",
        "Напишите программу, которая извлекает главную диагональ квадратной матрицы размером `n x n`.\n",
        "\n",
        "**Формат ввода:**  \n",
        "Один список списков (матрица) размером `n x n`.\n",
        "\n",
        "**Формат вывода:**  \n",
        "Список элементов главной диагонали матрицы."
      ]
    },
    {
      "cell_type": "code",
      "execution_count": 4,
      "metadata": {
        "id": "3Tf88IH_s0GO",
        "colab": {
          "base_uri": "https://localhost:8080/"
        },
        "outputId": "23700e66-3706-4592-9aa3-d29f5bc92a4a"
      },
      "outputs": [
        {
          "output_type": "stream",
          "name": "stdout",
          "text": [
            "[1, 5, 9]\n"
          ]
        }
      ],
      "source": [
        "matrix = [[1, 2, 3], [4, 5, 6], [7, 8, 9]]\n",
        "diagonal = [matrix[i][i] for i in range(len(matrix))]\n",
        "print(diagonal)"
      ]
    },
    {
      "cell_type": "markdown",
      "metadata": {
        "id": "WmdSF0jPtfBY"
      },
      "source": []
    },
    {
      "cell_type": "markdown",
      "metadata": {
        "id": "5HgTtePktibk"
      },
      "source": [
        "## 5. Извлечение чисел из строки\n",
        "\n",
        "**Задание:**  \n",
        "Напишите программу, которая извлекает все числа из введённой строки и создаёт список этих чисел в виде целых чисел.\n",
        "\n",
        "**Формат ввода:**  \n",
        "Одна строка, содержащая числа и другие символы.\n",
        "\n",
        "**Формат вывода:**  \n",
        "Список целых чисел, содержащихся в строке."
      ]
    },
    {
      "cell_type": "code",
      "execution_count": 16,
      "metadata": {
        "id": "OxLNcmz7tn56",
        "colab": {
          "base_uri": "https://localhost:8080/"
        },
        "outputId": "329ab850-3712-4e84-d8fb-2340251e30cd"
      },
      "outputs": [
        {
          "output_type": "stream",
          "name": "stdout",
          "text": [
            "1f34f56\n",
            "[1, 34, 56]\n"
          ]
        }
      ],
      "source": [
        "text = input()\n",
        "numbers = []\n",
        "current_num = ''\n",
        "\n",
        "for char in text:\n",
        "    if char.isdigit():\n",
        "        current_num += char\n",
        "    elif current_num:\n",
        "        numbers.append(int(current_num))\n",
        "        current_num = ''\n",
        "\n",
        "if current_num:\n",
        "    numbers.append(int(current_num))\n",
        "\n",
        "print(numbers)"
      ]
    },
    {
      "cell_type": "markdown",
      "metadata": {
        "id": "72KKzNE9tpL8"
      },
      "source": [
        "## 6. Сложение двух матриц\n",
        "\n",
        "**Задание:**  \n",
        "Напишите программу, которая складывает две матрицы одинакового размера и возвращает результат в виде новой матрицы.\n",
        "\n",
        "**Формат ввода:**  \n",
        "Два списка списков (матрицы) одинакового размера.\n",
        "\n",
        "**Формат вывода:**  \n",
        "Список списков — результат сложения двух матриц."
      ]
    },
    {
      "cell_type": "code",
      "execution_count": 8,
      "metadata": {
        "id": "tyID0dxRtuE_",
        "colab": {
          "base_uri": "https://localhost:8080/"
        },
        "outputId": "610fd8d6-10ca-4683-f09d-8a73fcc9e2e9"
      },
      "outputs": [
        {
          "output_type": "stream",
          "name": "stdout",
          "text": [
            "[[1,2],[3,4]]\n",
            "[[1,2],[3,4]]\n",
            "[[2, 4], [6, 8]]\n"
          ]
        }
      ],
      "source": [
        "matrix1 = eval(input())\n",
        "matrix2 = eval(input())\n",
        "\n",
        "result = [[matrix1[i][j] + matrix2[i][j] for j in range(len(matrix1[0]))] for i in range(len(matrix1))]\n",
        "print(result)"
      ]
    },
    {
      "cell_type": "markdown",
      "metadata": {
        "id": "USOat7oJuUuI"
      },
      "source": [
        "## 7. Создание шахматной доски\n",
        "\n",
        "**Задание:**  \n",
        "Напишите программу, которая создаёт список списков, представляющий шахматную доску (8x8), где чёрные клетки обозначены как `\"B\"`, а белые как `\"W\"`.\n",
        "\n",
        "**Формат ввода:**  \n",
        "Ввод отсутствует.\n",
        "\n",
        "**Формат вывода:**  \n",
        "Список списков, представляющий шахматную доску."
      ]
    },
    {
      "cell_type": "code",
      "execution_count": 9,
      "metadata": {
        "id": "JYjPJrwJwGfQ",
        "colab": {
          "base_uri": "https://localhost:8080/"
        },
        "outputId": "dc34e389-d54c-4b0d-bfbb-d96d3eab377d"
      },
      "outputs": [
        {
          "output_type": "stream",
          "name": "stdout",
          "text": [
            "[['W', 'B', 'W', 'B', 'W', 'B', 'W', 'B'], ['B', 'W', 'B', 'W', 'B', 'W', 'B', 'W'], ['W', 'B', 'W', 'B', 'W', 'B', 'W', 'B'], ['B', 'W', 'B', 'W', 'B', 'W', 'B', 'W'], ['W', 'B', 'W', 'B', 'W', 'B', 'W', 'B'], ['B', 'W', 'B', 'W', 'B', 'W', 'B', 'W'], ['W', 'B', 'W', 'B', 'W', 'B', 'W', 'B'], ['B', 'W', 'B', 'W', 'B', 'W', 'B', 'W']]\n"
          ]
        }
      ],
      "source": [
        "chessboard = [['W' if (i + j) % 2 == 0 else 'B' for j in range(8)] for i in range(8)]\n",
        "print(chessboard)"
      ]
    },
    {
      "cell_type": "markdown",
      "metadata": {
        "id": "ikFojqjPtu6J"
      },
      "source": [
        "## 8. Перевод чисел в шестнадцатеричный формат\n",
        "\n",
        "**Задание:**  \n",
        "Напишите программу, которая принимает список чисел и возвращает новый список этих чисел в шестнадцатеричном формате (как строки).\n",
        "\n",
        "**Формат ввода:**  \n",
        "Один список целых чисел.\n",
        "\n",
        "**Формат вывода:**  \n",
        "Список строк в шестнадцатеричном формате."
      ]
    },
    {
      "cell_type": "code",
      "execution_count": 11,
      "metadata": {
        "id": "eUtcYqm9t4w3",
        "colab": {
          "base_uri": "https://localhost:8080/"
        },
        "outputId": "54667803-053a-4e81-9890-a0d690443c3c"
      },
      "outputs": [
        {
          "output_type": "stream",
          "name": "stdout",
          "text": [
            "[12,323,43]\n",
            "['c', '143', '2b']\n"
          ]
        }
      ],
      "source": [
        "numbers = eval(input())\n",
        "hex_list = [format(num, 'x') for num in numbers]\n",
        "print(hex_list)"
      ]
    },
    {
      "cell_type": "markdown",
      "metadata": {
        "id": "n2H9f_tmt5Mo"
      },
      "source": [
        "## 9. Сумма цифр чисел в списке\n",
        "\n",
        "**Задание:**  \n",
        "Напишите программу, которая для каждого числа в списке вычисляет сумму его цифр и возвращает новый список с этими суммами.\n",
        "\n",
        "**Формат ввода:**  \n",
        "Один список целых чисел.\n",
        "\n",
        "**Формат вывода:**  \n",
        "Список сумм цифр каждого числа."
      ]
    },
    {
      "cell_type": "code",
      "execution_count": 13,
      "metadata": {
        "id": "dDZ22qLGuZn8",
        "colab": {
          "base_uri": "https://localhost:8080/"
        },
        "outputId": "86ee39f7-a38c-41ae-a7e6-5e51137ae921"
      },
      "outputs": [
        {
          "output_type": "stream",
          "name": "stdout",
          "text": [
            "[12,34,23,11]\n",
            "[3, 7, 5, 2]\n"
          ]
        }
      ],
      "source": [
        "numbers = eval(input())\n",
        "sums = [sum(int(digit) for digit in str(num)) for num in numbers]\n",
        "print(sums)"
      ]
    },
    {
      "cell_type": "markdown",
      "metadata": {
        "id": "Ta51Bdj0uCVw"
      },
      "source": [
        "Вот сложное задание, которое можно решить с помощью списочного выражения:\n",
        "\n",
        "## 10. Создание матрицы соседей\n",
        "\n",
        "**Задание:**  \n",
        "Напишите программу, которая создает матрицу соседей для заданной матрицы целых чисел. Матрица соседей — это матрица, в которой каждый элемент представляет собой сумму всех соседних элементов исходной матрицы (соседями считаются элементы, расположенные слева, справа, выше и ниже). Если соседнего элемента нет (например, для краевых элементов), его значение считается равным 0.\n",
        "\n",
        "**Формат ввода:**  \n",
        "Один список списков (матрица) размером `m x n`, где `m` — количество строк, а `n` — количество столбцов.\n",
        "\n",
        "**Формат вывода:**  \n",
        "Новый список списков — матрица соседей той же размерности.\n",
        "\n",
        "### Пример:\n",
        "\n",
        "**Ввод:**  \n",
        "```python\n",
        "matrix = [\n",
        "    [1, 2, 3],\n",
        "    [4, 5, 6],\n",
        "    [7, 8, 9]\n",
        "]\n",
        "```\n",
        "\n",
        "**Вывод:**  \n",
        "```python\n",
        "[\n",
        "    [6, 10, 15],\n",
        "    [12, 18, 24],\n",
        "    [15, 21, 27]\n",
        "]\n",
        "```"
      ]
    },
    {
      "cell_type": "code",
      "execution_count": 15,
      "metadata": {
        "id": "eRsaCZI8uTx-",
        "colab": {
          "base_uri": "https://localhost:8080/"
        },
        "outputId": "99bf1fbf-026a-4821-ed30-3679abd6a233"
      },
      "outputs": [
        {
          "output_type": "stream",
          "name": "stdout",
          "text": [
            "[     [1, 2, 3],     [4, 5, 6],     [7, 8, 9] ]\n",
            "[[6, 9, 8], [13, 20, 17], [12, 21, 14]]\n"
          ]
        }
      ],
      "source": [
        "matrix = eval(input())\n",
        "rows = len(matrix)\n",
        "if rows == 0:\n",
        "    print([])\n",
        "else:\n",
        "    cols = len(matrix[0])\n",
        "    result = [\n",
        "        [\n",
        "            (matrix[i-1][j] if i-1 >= 0 else 0) +\n",
        "            (matrix[i+1][j] if i+1 < rows else 0) +\n",
        "            (matrix[i][j-1] if j-1 >= 0 else 0) +\n",
        "            (matrix[i][j+1] if j+1 < cols else 0)\n",
        "            for j in range(cols)\n",
        "        ]\n",
        "        for i in range(rows)\n",
        "    ]\n",
        "    print(result)"
      ]
    }
  ],
  "metadata": {
    "colab": {
      "provenance": [],
      "include_colab_link": true
    },
    "kernelspec": {
      "display_name": "Python 3",
      "name": "python3"
    },
    "language_info": {
      "name": "python"
    }
  },
  "nbformat": 4,
  "nbformat_minor": 0
}