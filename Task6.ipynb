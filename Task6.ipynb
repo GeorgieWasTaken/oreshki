{
  "cells": [
    {
      "cell_type": "markdown",
      "metadata": {
        "id": "view-in-github",
        "colab_type": "text"
      },
      "source": [
        "<a href=\"https://colab.research.google.com/github/GeorgieWasTaken/oreshki/blob/main/Task6.ipynb\" target=\"_parent\"><img src=\"https://colab.research.google.com/assets/colab-badge.svg\" alt=\"Open In Colab\"/></a>"
      ]
    },
    {
      "cell_type": "markdown",
      "metadata": {
        "id": "ATjKu5B22Jc8"
      },
      "source": [
        "# Введение в срезы (slicing)\n",
        "Срезы — это способ получения подмножества элементов из последовательностей в Python, таких как строки, списки, кортежи и т.д. Срезы позволяют выбрать несколько элементов из последовательности с указанием начальной и конечной позиций, а также шага."
      ]
    },
    {
      "cell_type": "code",
      "execution_count": null,
      "metadata": {
        "colab": {
          "background_save": true,
          "base_uri": "https://localhost:8080/"
        },
        "id": "vj6HKzRQM4du",
        "outputId": "e7673b65-6a92-4feb-d2f5-98f2fa8d959f"
      },
      "outputs": [
        {
          "data": {
            "text/plain": [
              "[1, 3, 5]"
            ]
          },
          "execution_count": 4,
          "metadata": {},
          "output_type": "execute_result"
        }
      ],
      "source": [
        "sample_list = [1,2,3,4,5]\n",
        " sam[3]"
      ]
    },
    {
      "cell_type": "code",
      "execution_count": null,
      "metadata": {
        "colab": {
          "base_uri": "https://localhost:8080/"
        },
        "id": "JCNXAteNGr-e",
        "outputId": "e3eaae4d-3d7d-4970-f394-63630abd4e90"
      },
      "outputs": [
        {
          "name": "stdout",
          "output_type": "stream",
          "text": [
            "1\n"
          ]
        }
      ],
      "source": [
        "# Синтаксис срезов\n",
        "# Срезы задаются с использованием оператора \":\" внутри квадратных скобок:\n",
        "sequence = [1,2,3,4,5,6,7,8,9,0] # list или любой другой iterable\n",
        "start = 0 # — индекс первого элемента, который включается в срез. Если не указан, по умолчанию считается 0.\n",
        "stop = -1 # — индекс элемента, на котором срез заканчивается, но этот элемент в срез не включается. Если не указан, считается концом последовательности.\n",
        "step = 1 # — шаг, с которым выбираются элементы. Если не указан, считается равным 1.\n",
        "sequence[start:stop:step]\n",
        "\n",
        "# При использовании отрицательных индексов элементы отсчитываются с конца последовательности.\n",
        "# Срезы не изменяют исходную коллекцию, а создают новую последовательность.\n",
        "# start, stop и step — необязательные параметры. Если их не указать, будут использованы значения по умолчанию.\n",
        "\n"
      ]
    },
    {
      "cell_type": "code",
      "execution_count": null,
      "metadata": {
        "id": "PCli6xMMn5HO"
      },
      "outputs": [],
      "source": [
        "text = \"Hello, World!\"\n",
        "print(text[7:12])  # 'World'"
      ]
    },
    {
      "cell_type": "code",
      "execution_count": null,
      "metadata": {
        "id": "_LRsexDxn6GC"
      },
      "outputs": [],
      "source": [
        "my_list = [1, 2, 3, 4, 5]\n",
        "copy_list = my_list[:]  # Копия списка"
      ]
    },
    {
      "cell_type": "markdown",
      "metadata": {
        "id": "x3NOQX6y1u1i"
      },
      "source": [
        "## 1. Извлечение подстроки\n",
        "\n",
        "**Задание:**  \n",
        "Напишите программу, которая выводит подстроку из введённой строки с 3-го по 7-й символ включительно.\n",
        "\n",
        "\n",
        "\n",
        "**Формат ввода:**  \n",
        "Одна строка.\n",
        "\n",
        "\n",
        "**Формат вывода:**  \n",
        "Подстрока с 3-го по 7-й символ включительно.\n",
        "\n",
        "\n",
        "\n",
        "---"
      ]
    },
    {
      "cell_type": "code",
      "execution_count": 1,
      "metadata": {
        "colab": {
          "base_uri": "https://localhost:8080/"
        },
        "id": "0WfvlH4d2HGJ",
        "outputId": "e2f9ca69-54f0-4a32-8563-a06f5b68dfeb"
      },
      "outputs": [
        {
          "output_type": "stream",
          "name": "stdout",
          "text": [
            "ущолкпаоа\n",
            "олкпа\n"
          ]
        }
      ],
      "source": [
        "s = input()\n",
        "print(s[2:7])"
      ]
    },
    {
      "cell_type": "markdown",
      "metadata": {
        "id": "BA8tmFDf1xIq"
      },
      "source": [
        "## 2. Чётные индексы\n",
        "\n",
        "**Задание:**  \n",
        "Напишите программу, которая выводит элементы списка с чётными индексами.\n",
        "\n",
        "**Формат ввода:**  \n",
        "Один список целых чисел.\n",
        "\n",
        "**Формат вывода:**  \n",
        "Элементы списка с чётными индексами.\n",
        "\n",
        "---"
      ]
    },
    {
      "cell_type": "code",
      "execution_count": 6,
      "metadata": {
        "colab": {
          "base_uri": "https://localhost:8080/"
        },
        "id": "ROXHqZg92U0j",
        "outputId": "a1dd4b40-1731-434a-c46f-32dcb46209b8"
      },
      "outputs": [
        {
          "output_type": "stream",
          "name": "stdout",
          "text": [
            "[1,2,3,4,5]\n",
            "[1, 3, 5]\n"
          ]
        }
      ],
      "source": [
        "lst = eval(input())\n",
        "print(lst[::2])"
      ]
    },
    {
      "cell_type": "markdown",
      "metadata": {
        "id": "xAuihQst11N_"
      },
      "source": [
        "## 3. Элементы с шагом\n",
        "**Задание:**\n",
        "\n",
        "Напишите программу, которая выводит каждый третий элемент списка, начиная с первого.\n",
        "\n",
        "**Формат ввода:**\n",
        "\n",
        "Один список целых чисел.\n",
        "\n",
        "**Формат вывода:**\n",
        "\n",
        "Каждый третий элемент списка.\n",
        "\n",
        "\n",
        "---"
      ]
    },
    {
      "cell_type": "code",
      "execution_count": 7,
      "metadata": {
        "id": "rPZyzuIk2WA9",
        "outputId": "68244876-04cb-4305-df3c-ba63969e5525",
        "colab": {
          "base_uri": "https://localhost:8080/"
        }
      },
      "outputs": [
        {
          "output_type": "stream",
          "name": "stdout",
          "text": [
            "[1,2,3,4,5,6,7]\n",
            "[1, 4, 7]\n"
          ]
        }
      ],
      "source": [
        "lst = eval(input())\n",
        "print(lst[::3])"
      ]
    },
    {
      "cell_type": "markdown",
      "metadata": {
        "id": "ds2NLrHU12KX"
      },
      "source": [
        "## 4. Срез строки\n",
        "\n",
        "**Задание:**\n",
        "\n",
        "Напишите программу, которая выводит последние 5 символов строки.\n",
        "\n",
        "**Формат ввода:**\n",
        "\n",
        "Одна строка.\n",
        "\n",
        "**Формат вывода:**\n",
        "\n",
        "Последние 5 символов строки.\n",
        "\n",
        "---"
      ]
    },
    {
      "cell_type": "code",
      "execution_count": 8,
      "metadata": {
        "id": "pCeBQYeS2Woy",
        "outputId": "4d8d23ac-fb08-49d2-d20d-630e79e640f8",
        "colab": {
          "base_uri": "https://localhost:8080/"
        }
      },
      "outputs": [
        {
          "output_type": "stream",
          "name": "stdout",
          "text": [
            "123456789\n",
            "56789\n"
          ]
        }
      ],
      "source": [
        "s = input()\n",
        "print(s[-5:])\n"
      ]
    },
    {
      "cell_type": "markdown",
      "metadata": {
        "id": "kqCOuXmV16LX"
      },
      "source": [
        "## 5. Шалаш наоборот\n",
        "\n",
        "**Задание:**  \n",
        "Дан стринг, который нужно перевернуть, то есть вывести в обратном порядке его буквы.\n",
        "\n",
        "**Формат ввода:**  \n",
        "Один стринг.\n",
        "\n",
        "**Формат вывода:**  \n",
        "Стринг в обратном порядке.\n",
        "\n",
        "\n",
        "\n",
        "---"
      ]
    },
    {
      "cell_type": "code",
      "execution_count": 9,
      "metadata": {
        "colab": {
          "base_uri": "https://localhost:8080/"
        },
        "id": "vnNGPmvS2bPE",
        "outputId": "d6ba0b84-6f6d-4198-9bcd-974840bd1174"
      },
      "outputs": [
        {
          "output_type": "stream",
          "name": "stdout",
          "text": [
            "54321\n",
            "12345\n"
          ]
        }
      ],
      "source": [
        "s = input()\n",
        "print(s[::-1])"
      ]
    },
    {
      "cell_type": "markdown",
      "metadata": {
        "id": "P8dlBygV18-p"
      },
      "source": [
        "## 6.  Проверка палиндрома\n",
        "\n",
        "**Задание:**  \n",
        "Напишите программу, которая проверяет, является ли введённая строка палиндромом (читается одинаково слева направо и справа налево).\n",
        "\n",
        "**Формат ввода:**  \n",
        "Одна строка.\n",
        "\n",
        "**Формат вывода:**  \n",
        "«Палиндром», если строка является палиндромом. «Не палиндром», если не является.\n",
        "\n",
        "---"
      ]
    },
    {
      "cell_type": "code",
      "execution_count": 10,
      "metadata": {
        "id": "X7G0uH752byr",
        "outputId": "cddf263e-2edf-4da1-c664-23031d7ca0f9",
        "colab": {
          "base_uri": "https://localhost:8080/"
        }
      },
      "outputs": [
        {
          "output_type": "stream",
          "name": "stdout",
          "text": [
            "abba\n",
            "Палиндром\n"
          ]
        }
      ],
      "source": [
        "s = input()\n",
        "if s == s[::-1]:\n",
        "    print(\"Палиндром\")\n",
        "else:\n",
        "    print(\"Не палиндром\")"
      ]
    },
    {
      "cell_type": "markdown",
      "metadata": {
        "id": "p0SD1Qxw1_xO"
      },
      "source": [
        "## 7. Удаление первых и последних символов\n",
        "\n",
        "**Задание:**  \n",
        "Напишите программу, которая удаляет первые и последние два символа из строки.\n",
        "\n",
        "**Формат ввода:**  \n",
        "Одна строка.\n",
        "\n",
        "**Формат вывода:**  \n",
        "\n",
        "Строка без первых и последних двух символов.\n",
        "\n",
        "---"
      ]
    },
    {
      "cell_type": "code",
      "execution_count": 12,
      "metadata": {
        "id": "hTZG2XnS2cmf",
        "outputId": "59607764-963b-428a-af39-7de27be7ed27",
        "colab": {
          "base_uri": "https://localhost:8080/"
        }
      },
      "outputs": [
        {
          "output_type": "stream",
          "name": "stdout",
          "text": [
            "12221\n",
            "2\n"
          ]
        }
      ],
      "source": [
        "s = input()\n",
        "if len(s) >= 5:\n",
        "    print(s[2:-2])\n",
        "else:\n",
        "    print(\"\")"
      ]
    },
    {
      "cell_type": "markdown",
      "metadata": {
        "id": "-8clmb5S2BM4"
      },
      "source": [
        "## 8. Копирование списка\n",
        "\n",
        "**Задание:**  \n",
        "Напишите программу, которая создаёт копию списка с помощью срезов.\n",
        "\n",
        "**Формат ввода:**  \n",
        "Один список целых чисел.\n",
        "\n",
        "**Формат вывода:**  \n",
        "Переменная а, в которую записана **копия** списка.\n",
        "\n",
        "\n",
        "---"
      ]
    },
    {
      "cell_type": "code",
      "execution_count": 13,
      "metadata": {
        "id": "zGYhMbtM2dOc",
        "outputId": "75365cff-7aef-44b0-b02d-23a7a1eecf38",
        "colab": {
          "base_uri": "https://localhost:8080/"
        }
      },
      "outputs": [
        {
          "output_type": "stream",
          "name": "stdout",
          "text": [
            "[1,2,3,4,5]\n",
            "[1, 2, 3, 4, 5]\n"
          ]
        }
      ],
      "source": [
        "lst = eval(input())\n",
        "a = lst[:]\n",
        "print(a)"
      ]
    },
    {
      "cell_type": "markdown",
      "metadata": {
        "id": "2EdlE-Dk2DmD"
      },
      "source": [
        "## 9. Изменение части списка\n",
        "\n",
        "**Задание:**  \n",
        "Напишите программу, которая заменяет средний элемент списка на число 0. Если длинна списка четная, то заменяются два центральных элемента. Остальные элементы без изменений.\n",
        "\n",
        "\n",
        "**Формат ввода:**  \n",
        "Один список целых чисел.\n",
        "\n",
        "**Формат вывода:**  \n",
        "Список, где средний(-ие) элементы заменены на 0.\n",
        "\n",
        "\n",
        "---"
      ]
    },
    {
      "cell_type": "code",
      "execution_count": 16,
      "metadata": {
        "id": "l_Uux2VJ2dvn",
        "outputId": "9475bf38-e09d-4611-bc4a-bb03b5c26618",
        "colab": {
          "base_uri": "https://localhost:8080/"
        }
      },
      "outputs": [
        {
          "output_type": "stream",
          "name": "stdout",
          "text": [
            "[1,2,3,4,5]\n",
            "[1, 2, 0, 4, 5]\n"
          ]
        }
      ],
      "source": [
        "lst = eval(input())\n",
        "n = len(lst)\n",
        "mid = n // 2\n",
        "\n",
        "if n % 2 == 1:  # нечётная длина\n",
        "    lst[mid] = 0\n",
        "else:  # чётная длина\n",
        "    lst[mid-1:mid+1] = [0, 0]\n",
        "\n",
        "print(lst)"
      ]
    },
    {
      "cell_type": "markdown",
      "metadata": {
        "id": "-qmAIWLq0wWM"
      },
      "source": [
        "## 10. Шахматная доска\n",
        "\n",
        "**Задание:**  \n",
        "Представьте, что вы пишете компьютерную игру «Шахматы». Вам надо смоделировать шахматную доску, которая представляет собой матрицу. Чёрная клетка представляется нулём, а белая — единицей. Если смотреть на доску сверху, то левая верхняя клетка — белая.\n",
        "\n",
        "Напишите программу, которая принимает размер шахматной доски, и рисует заданную доску.\n",
        "\n",
        "\n",
        "Формат вывода\n",
        "\n",
        "**Формат ввода:**  \n",
        "Целое число n\n",
        "\n",
        "**Формат вывода:**  \n",
        "Нарисованная шахматная доска из 0 и 1 размером n\n"
      ]
    },
    {
      "cell_type": "code",
      "execution_count": 17,
      "metadata": {
        "id": "d2QKwa8T06a9",
        "outputId": "1e3f62e2-ecc0-41e6-d501-2b92f208e2dc",
        "colab": {
          "base_uri": "https://localhost:8080/"
        }
      },
      "outputs": [
        {
          "output_type": "stream",
          "name": "stdout",
          "text": [
            "8\n",
            "10101010\n",
            "01010101\n",
            "10101010\n",
            "01010101\n",
            "10101010\n",
            "01010101\n",
            "10101010\n",
            "01010101\n"
          ]
        }
      ],
      "source": [
        "n = int(input())\n",
        "pattern = \"10\" * n\n",
        "\n",
        "for i in range(n):\n",
        "    print(pattern[i:i+n])"
      ]
    }
  ],
  "metadata": {
    "colab": {
      "provenance": [],
      "include_colab_link": true
    },
    "kernelspec": {
      "display_name": "Python 3",
      "name": "python3"
    },
    "language_info": {
      "name": "python"
    }
  },
  "nbformat": 4,
  "nbformat_minor": 0
}