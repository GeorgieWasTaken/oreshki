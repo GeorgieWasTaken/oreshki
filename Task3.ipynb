{
  "nbformat": 4,
  "nbformat_minor": 0,
  "metadata": {
    "colab": {
      "provenance": [],
      "include_colab_link": true
    },
    "kernelspec": {
      "name": "python3",
      "display_name": "Python 3"
    },
    "language_info": {
      "name": "python"
    }
  },
  "cells": [
    {
      "cell_type": "markdown",
      "metadata": {
        "id": "view-in-github",
        "colab_type": "text"
      },
      "source": [
        "<a href=\"https://colab.research.google.com/github/GeorgieWasTaken/oreshki/blob/main/Task3.ipynb\" target=\"_parent\"><img src=\"https://colab.research.google.com/assets/colab-badge.svg\" alt=\"Open In Colab\"/></a>"
      ]
    },
    {
      "cell_type": "markdown",
      "source": [
        "# Условные операторы (if, else, elif)"
      ],
      "metadata": {
        "id": "ATjKu5B22Jc8"
      }
    },
    {
      "cell_type": "code",
      "source": [
        "True != False"
      ],
      "metadata": {
        "colab": {
          "base_uri": "https://localhost:8080/"
        },
        "id": "x3gFHqOqz3Xi",
        "outputId": "9a8f20a2-83d6-4900-863d-98b56712366d"
      },
      "execution_count": null,
      "outputs": [
        {
          "output_type": "execute_result",
          "data": {
            "text/plain": [
              "True"
            ]
          },
          "metadata": {},
          "execution_count": 2
        }
      ]
    },
    {
      "cell_type": "code",
      "source": [
        "a = 1\n",
        "\n",
        "if a > 0:\n",
        "  if True:\n"
      ],
      "metadata": {
        "colab": {
          "base_uri": "https://localhost:8080/",
          "height": 108
        },
        "id": "JCNXAteNGr-e",
        "outputId": "a7a6be5f-8230-4428-fbb2-f67e91e008e7"
      },
      "execution_count": null,
      "outputs": [
        {
          "output_type": "error",
          "ename": "SyntaxError",
          "evalue": "invalid syntax (ipython-input-3384686666.py, line 5)",
          "traceback": [
            "\u001b[0;36m  File \u001b[0;32m\"/tmp/ipython-input-3384686666.py\"\u001b[0;36m, line \u001b[0;32m5\u001b[0m\n\u001b[0;31m    elif:\u001b[0m\n\u001b[0m        ^\u001b[0m\n\u001b[0;31mSyntaxError\u001b[0m\u001b[0;31m:\u001b[0m invalid syntax\n"
          ]
        }
      ]
    },
    {
      "cell_type": "markdown",
      "source": [
        "## 1. Положительное, отрицательное или ноль\n",
        "\n",
        "**Задание:**  \n",
        "Напишите программу, которая определяет, является ли введённое число положительным, отрицательным или нулём.\n",
        "\n",
        "**Формат ввода:**  \n",
        "Одно целое число.\n",
        "\n",
        "**Формат вывода:**  \n",
        "- «Положительное число», если число больше нуля.  \n",
        "- «Отрицательное число», если число меньше нуля.  \n",
        "- «Ноль», если число равно нулю.\n",
        "\n",
        "---"
      ],
      "metadata": {
        "id": "x3NOQX6y1u1i"
      }
    },
    {
      "cell_type": "code",
      "source": [
        "num = int(input())\n",
        "\n",
        "if num > 0:\n",
        "    print(\"Положительное число\")\n",
        "elif num < 0:\n",
        "    print(\"Отрицательное число\")\n",
        "else:\n",
        "    print(\"Ноль\")"
      ],
      "metadata": {
        "id": "0WfvlH4d2HGJ"
      },
      "execution_count": null,
      "outputs": []
    },
    {
      "cell_type": "markdown",
      "source": [
        "\n",
        "\n",
        "## 2. Чётное или нечётное число\n",
        "\n",
        "**Задание:**  \n",
        "Напишите программу, которая проверяет, является ли введённое число чётным или нечётным.\n",
        "\n",
        "**Формат ввода:**  \n",
        "Одно целое число.\n",
        "\n",
        "**Формат вывода:**  \n",
        "- «Чётное число», если число делится на 2 без остатка.  \n",
        "- «Нечётное число», если число не делится на 2.\n",
        "\n",
        "---"
      ],
      "metadata": {
        "id": "BA8tmFDf1xIq"
      }
    },
    {
      "cell_type": "code",
      "source": [
        "num = int(input())\n",
        "\n",
        "if num % 2 == 0:\n",
        "    print(\"Чётное число\")\n",
        "else:\n",
        "    print(\"Нечётное число\")"
      ],
      "metadata": {
        "id": "ROXHqZg92U0j",
        "colab": {
          "base_uri": "https://localhost:8080/"
        },
        "outputId": "1d7cf020-85cd-46fc-8c8a-cb5f95350248"
      },
      "execution_count": 1,
      "outputs": [
        {
          "output_type": "stream",
          "name": "stdout",
          "text": [
            "5\n",
            "Нечётное число\n"
          ]
        }
      ]
    },
    {
      "cell_type": "markdown",
      "source": [
        "\n",
        "\n",
        "## 3. Определение квадранта\n",
        "\n",
        "**Задание:**  \n",
        "Напишите программу, которая определяет, в каком квадранте находится точка на плоскости с заданными координатами (x, y).\n",
        "\n",
        "**Формат ввода:**  \n",
        "Два целых числа: координаты точки x и y.\n",
        "\n",
        "**Формат вывода:**  \n",
        "- «I квадрант», если x > 0 и y > 0.  \n",
        "- «II квадрант», если x < 0 и y > 0.  \n",
        "- «III квадрант», если x < 0 и y < 0.  \n",
        "- «IV квадрант», если x > 0 и y < 0.  \n",
        "- «Точка лежит на оси», если x или y равны нулю.\n",
        "\n",
        "---"
      ],
      "metadata": {
        "id": "xAuihQst11N_"
      }
    },
    {
      "cell_type": "code",
      "source": [
        "x = int(input())\n",
        "y = int(input())\n",
        "\n",
        "if x > 0 and y > 0:\n",
        "    print(\"I квадрант\")\n",
        "elif x < 0 and y > 0:\n",
        "    print(\"II квадрант\")\n",
        "elif x < 0 and y < 0:\n",
        "    print(\"III квадрант\")\n",
        "elif x > 0 and y < 0:\n",
        "    print(\"IV квадрант\")\n",
        "else:\n",
        "    print(\"Точка лежит на оси\")"
      ],
      "metadata": {
        "id": "rPZyzuIk2WA9",
        "colab": {
          "base_uri": "https://localhost:8080/"
        },
        "outputId": "72ee0b3a-0732-4749-e6a4-2f22b539d0a8"
      },
      "execution_count": 2,
      "outputs": [
        {
          "output_type": "stream",
          "name": "stdout",
          "text": [
            "3\n",
            "4\n",
            "I квадрант\n"
          ]
        }
      ]
    },
    {
      "cell_type": "markdown",
      "source": [
        "\n",
        "\n",
        "## 4. Камень, ножницы, бумага\n",
        "\n",
        "**Задание:**  \n",
        "Напишите программу, которая определяет исход игры в «Камень, ножницы, бумага» по введённым ходам игрока и соперника.\n",
        "\n",
        "**Формат ввода:**  \n",
        "1. Строка — ваш ход: \"камень\", \"ножницы\" или \"бумага\".  \n",
        "2. Строка — ход соперника: \"камень\", \"ножницы\" или \"бумага\".\n",
        "\n",
        "**Формат вывода:**  \n",
        "- «Вы выиграли», если ваш ход побеждает ход соперника.  \n",
        "- «Вы проиграли», если ваш ход проигрывает ходу соперника.  \n",
        "- «Ничья», если оба ввели одинаковые ходы.\n",
        "\n",
        "---"
      ],
      "metadata": {
        "id": "ds2NLrHU12KX"
      }
    },
    {
      "cell_type": "code",
      "source": [
        "player = input()\n",
        "opponent = input()\n",
        "\n",
        "if player == opponent:\n",
        "    print(\"Ничья\")\n",
        "elif (player == \"камень\" and opponent == \"ножницы\") or \\\n",
        "     (player == \"ножницы\" and opponent == \"бумага\") or \\\n",
        "     (player == \"бумага\" and opponent == \"камень\"):\n",
        "    print(\"Вы выиграли\")\n",
        "else:\n",
        "    print(\"Вы проиграли\")\n",
        ""
      ],
      "metadata": {
        "id": "pCeBQYeS2Woy",
        "colab": {
          "base_uri": "https://localhost:8080/"
        },
        "outputId": "dafe1cfa-069a-4249-cfc3-d72b3ea78773"
      },
      "execution_count": 4,
      "outputs": [
        {
          "output_type": "stream",
          "name": "stdout",
          "text": [
            "камень\n",
            "ножницы\n",
            "Вы выиграли\n"
          ]
        }
      ]
    },
    {
      "cell_type": "markdown",
      "source": [
        "\n",
        "\n",
        "## 5. Сравнение двух строк\n",
        "\n",
        "**Задание:**  \n",
        "Напишите программу, которая сравнивает две строки и выводит сообщение о том, какая из них длиннее, или указывающее, что их длины равны.\n",
        "\n",
        "**Формат ввода:**  \n",
        "Две строки.\n",
        "\n",
        "**Формат вывода:**  \n",
        "- «Первая строка длиннее», если длина первой строки больше длины второй.  \n",
        "- «Вторая строка длиннее», если длина второй строки больше длины первой.  \n",
        "- «Строки равной длины», если длины строк равны.\n",
        "\n",
        "---"
      ],
      "metadata": {
        "id": "kqCOuXmV16LX"
      }
    },
    {
      "cell_type": "code",
      "source": [
        "s1 = input()\n",
        "s2 = input()\n",
        "\n",
        "if len(s1) > len(s2):\n",
        "    print(\"Первая строка длиннее\")\n",
        "elif len(s1) < len(s2):\n",
        "    print(\"Вторая строка длиннее\")\n",
        "else:\n",
        "    print(\"Строки равной длины\")"
      ],
      "metadata": {
        "id": "vnNGPmvS2bPE",
        "colab": {
          "base_uri": "https://localhost:8080/"
        },
        "outputId": "91cd972f-a9bc-4485-b1b3-9f100aec0d4f"
      },
      "execution_count": 5,
      "outputs": [
        {
          "output_type": "stream",
          "name": "stdout",
          "text": [
            "234\n",
            "4\n",
            "Первая строка длиннее\n"
          ]
        }
      ]
    },
    {
      "cell_type": "markdown",
      "source": [
        "\n",
        "\n",
        "## 6. Проверка доступа к ресурсу\n",
        "\n",
        "**Задание:**  \n",
        "Напишите программу, которая проверяет, имеет ли пользователь доступ к ресурсу на основе его возраста и наличия подписки.\n",
        "\n",
        "**Формат ввода:**  \n",
        "1. Целое число — возраст пользователя.  \n",
        "2. Строка — статус подписки пользователя («да» или «нет»).\n",
        "\n",
        "**Формат вывода:**  \n",
        "- «Доступ разрешён», если возраст пользователя не менее 18 лет и у него есть подписка.  \n",
        "- «Доступ ограничен», если возраст пользователя менее 18 лет или у него нет подписки.  \n",
        "- «Доступ запрещён», если возраст пользователя менее 18 лет и у него нет подписки.\n",
        "\n",
        "*Используйте логические операторы.*\n",
        "\n",
        "---"
      ],
      "metadata": {
        "id": "P8dlBygV18-p"
      }
    },
    {
      "cell_type": "code",
      "source": [
        "age = int(input())\n",
        "subscription = input()\n",
        "\n",
        "if age >= 18 and subscription == \"да\":\n",
        "    print(\"Доступ разрешён\")\n",
        "elif age < 18 and subscription == \"нет\":\n",
        "    print(\"Доступ запрещён\")\n",
        "else:\n",
        "    print(\"Доступ ограничен\")"
      ],
      "metadata": {
        "id": "X7G0uH752byr",
        "colab": {
          "base_uri": "https://localhost:8080/"
        },
        "outputId": "b468319e-edab-4720-8881-a2436eb58f27"
      },
      "execution_count": 7,
      "outputs": [
        {
          "output_type": "stream",
          "name": "stdout",
          "text": [
            "435345\n",
            "да\n",
            "Доступ разрешён\n"
          ]
        }
      ]
    },
    {
      "cell_type": "markdown",
      "source": [
        "\n",
        "\n",
        "## 7. Пьедестал почёта\n",
        "\n",
        "**Задание:**  \n",
        "Напишите программу, которая определяет, кто из трёх участников занял первое, второе и третье место в гонке на основе их времени прохождения дистанции.\n",
        "\n",
        "**Формат ввода:**  \n",
        "1. Три строки — имена участников.  \n",
        "2. Три числа — время каждого участника в секундах.\n",
        "\n",
        "**Формат вывода:**  \n",
        "Три строки:  \n",
        "- «1 место: `<имя>`»  \n",
        "- «2 место: `<имя>`»  \n",
        "- «3 место: `<имя>`»  \n",
        "\n",
        "где `<имя>` — имя участника, занявшего соответствующее место.\n",
        "\n",
        "**Формат ввода:**\n",
        "\n",
        "Алиса\n",
        "\n",
        "Боб\n",
        "\n",
        "Чарли\n",
        "\n",
        "12.5\n",
        "\n",
        "11.2\n",
        "\n",
        "13.3\n",
        "\n",
        "**Формат вывода:**\n",
        "\n",
        "1 место: Боб\n",
        "\n",
        "2 место: Алиса\n",
        "\n",
        "3 место: Чарли\n",
        "\n",
        "*Подсказка: используйте условные операторы для сравнения времени и определения позиций участников.*\n",
        "\n",
        "---"
      ],
      "metadata": {
        "id": "p0SD1Qxw1_xO"
      }
    },
    {
      "cell_type": "code",
      "source": [
        "name1,name2,name3=input().split(\" \")\n",
        "time1,time2,time3=input().split(\" \")\n",
        "\n",
        "if time1 <= time2 and time1 <= time3:\n",
        "    first = name1\n",
        "    if time2 <= time3:\n",
        "        second = name2\n",
        "        third = name3\n",
        "    else:\n",
        "        second = name3\n",
        "        third = name2\n",
        "elif time2 <= time1 and time2 <= time3:\n",
        "    first = name2\n",
        "    if time1 <= time3:\n",
        "        second = name1\n",
        "        third = name3\n",
        "    else:\n",
        "        second = name3\n",
        "        third = name1\n",
        "else:\n",
        "    first = name3\n",
        "    if time1 <= time2:\n",
        "        second = name1\n",
        "        third = name2\n",
        "    else:\n",
        "        second = name2\n",
        "        third = name1\n",
        "\n",
        "print(f\"1 место: {first}\")\n",
        "print(f\"2 место: {second}\")\n",
        "print(f\"3 место: {third}\")"
      ],
      "metadata": {
        "id": "hTZG2XnS2cmf",
        "colab": {
          "base_uri": "https://localhost:8080/"
        },
        "outputId": "2730739a-cb2d-4e1e-cbfe-ac6d792bb520"
      },
      "execution_count": 11,
      "outputs": [
        {
          "output_type": "stream",
          "name": "stdout",
          "text": [
            "sdf df df\n",
            "3 4 5\n",
            "1 место: sdf\n",
            "2 место: df\n",
            "3 место: df\n"
          ]
        }
      ]
    },
    {
      "cell_type": "code",
      "source": [
        "a = 2\n",
        "sorted( (3.2,1,a) )"
      ],
      "metadata": {
        "colab": {
          "base_uri": "https://localhost:8080/"
        },
        "id": "JWCi4c0sA26H",
        "outputId": "b33f7468-d5a1-48df-e70a-7592b0c0e37d"
      },
      "execution_count": null,
      "outputs": [
        {
          "output_type": "execute_result",
          "data": {
            "text/plain": [
              "[1, 2, 3.2]"
            ]
          },
          "metadata": {},
          "execution_count": 9
        }
      ]
    },
    {
      "cell_type": "markdown",
      "source": [
        "\n",
        "\n",
        "## 8. Число больше или меньше среднего\n",
        "\n",
        "**Задание:**  \n",
        "Напишите программу, которая сравнивает введённое число со средним арифметическим трёх других чисел.\n",
        "\n",
        "**Формат ввода:**  \n",
        "Четыре целых числа: три числа для среднего и одно для сравнения.\n",
        "\n",
        "**Формат вывода:**  \n",
        "- «Число больше среднего», если последнее число больше среднего.  \n",
        "- «Число меньше среднего», если последнее число меньше среднего.  \n",
        "- «Число равно среднему», если они равны.\n",
        "\n",
        "---"
      ],
      "metadata": {
        "id": "-8clmb5S2BM4"
      }
    },
    {
      "cell_type": "code",
      "source": [
        "a = int(input())\n",
        "b = int(input())\n",
        "c = int(input())\n",
        "x = int(input())\n",
        "\n",
        "average = (a + b + c) / 3\n",
        "\n",
        "if x > average:\n",
        "    print(\"Число больше среднего\")\n",
        "elif x < average:\n",
        "    print(\"Число меньше среднего\")\n",
        "else:\n",
        "    print(\"Число равно среднему\")"
      ],
      "metadata": {
        "id": "zGYhMbtM2dOc",
        "colab": {
          "base_uri": "https://localhost:8080/"
        },
        "outputId": "98e4b53a-3fca-4adc-ae0d-bfa1a01fe590"
      },
      "execution_count": 19,
      "outputs": [
        {
          "output_type": "stream",
          "name": "stdout",
          "text": [
            "4\n",
            "5\n",
            "6\n",
            "34\n",
            "Число больше среднего\n"
          ]
        }
      ]
    },
    {
      "cell_type": "markdown",
      "source": [
        "\n",
        "\n",
        "## 9. Високосный год\n",
        "\n",
        "**Задание:**  \n",
        "Напишите программу, которая проверяет, является ли введённый год високосным.\n",
        "\n",
        "**Формат ввода:**  \n",
        "Одно целое число — год.\n",
        "\n",
        "**Формат вывода:**  \n",
        "- «Високосный год»  \n",
        "- «Обычный год»\n",
        "\n",
        "---"
      ],
      "metadata": {
        "id": "2EdlE-Dk2DmD"
      }
    },
    {
      "cell_type": "code",
      "source": [
        "year = int(input())\n",
        "\n",
        "if (year % 4 == 0 and year % 100 != 0) or (year % 400 == 0):\n",
        "    print(\"Високосный год\")\n",
        "else:\n",
        "    print(\"Обычный год\")"
      ],
      "metadata": {
        "id": "l_Uux2VJ2dvn",
        "colab": {
          "base_uri": "https://localhost:8080/"
        },
        "outputId": "8fa1fb11-b6a7-4d4a-b20a-6c3d531da002"
      },
      "execution_count": 13,
      "outputs": [
        {
          "output_type": "stream",
          "name": "stdout",
          "text": [
            "345564\n",
            "Високосный год\n"
          ]
        }
      ]
    },
    {
      "cell_type": "markdown",
      "source": [
        "\n",
        "\n",
        "## 10. Категория пассажира\n",
        "\n",
        "**Задание:**  \n",
        "Напишите программу, которая определяет категорию пассажира по возрасту.\n",
        "\n",
        "**Формат ввода:**  \n",
        "Одно целое число — возраст пассажира.\n",
        "\n",
        "**Формат вывода:**  \n",
        "- «Детский билет», если возраст до 12 лет.  \n",
        "- «Юношеский билет», если возраст от 12 до 18 лет.  \n",
        "- «Взрослый билет», если возраст от 18 до 60 лет.  \n",
        "- «Старший билет», если возраст 60 лет и старше.\n"
      ],
      "metadata": {
        "id": "-qmAIWLq0wWM"
      }
    },
    {
      "cell_type": "code",
      "source": [
        "age = int(input())\n",
        "\n",
        "if age < 12:\n",
        "    print(\"Детский билет\")\n",
        "elif age < 18:\n",
        "    print(\"Юношеский билет\")\n",
        "elif age < 60:\n",
        "    print(\"Взрослый билет\")\n",
        "else:\n",
        "    print(\"Старший билет\")"
      ],
      "metadata": {
        "id": "6bBRHvVcEJNi",
        "outputId": "1e96d2ba-022e-4066-bb8b-47568af7bc45",
        "colab": {
          "base_uri": "https://localhost:8080/"
        }
      },
      "execution_count": 15,
      "outputs": [
        {
          "output_type": "stream",
          "name": "stdout",
          "text": [
            "32323\n",
            "Старший билет\n"
          ]
        }
      ]
    }
  ]
}